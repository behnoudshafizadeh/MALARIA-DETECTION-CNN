{
 "cells": [
  {
   "cell_type": "code",
   "execution_count": 1,
   "metadata": {},
   "outputs": [
    {
     "name": "stderr",
     "output_type": "stream",
     "text": [
      "Using TensorFlow backend.\n"
     ]
    }
   ],
   "source": [
    "# USAGE\n",
    "# python load_model.py --images malaria/testing --model saved_model.model\n",
    "\n",
    "# import the necessary packages\n",
    "from keras.preprocessing.image import img_to_array\n",
    "from keras.models import load_model\n",
    "from imutils import build_montages\n",
    "from imutils import paths\n",
    "import numpy as np\n",
    "import argparse\n",
    "import random\n",
    "import cv2"
   ]
  },
  {
   "cell_type": "code",
   "execution_count": 2,
   "metadata": {},
   "outputs": [
    {
     "name": "stdout",
     "output_type": "stream",
     "text": [
      "[INFO] loading pre-trained network...\n"
     ]
    }
   ],
   "source": [
    "# load the pre-trained network\n",
    "print(\"[INFO] loading pre-trained network...\")\n",
    "model = load_model(\"saved model\")"
   ]
  },
  {
   "cell_type": "code",
   "execution_count": 3,
   "metadata": {},
   "outputs": [],
   "source": [
    "# grab all image paths in the input directory and randomly sample them\n",
    "imagePaths = list(paths.list_images(\"malaria/testing\"))\n",
    "random.shuffle(imagePaths)\n",
    "imagePaths = imagePaths[:16]"
   ]
  },
  {
   "cell_type": "code",
   "execution_count": 4,
   "metadata": {},
   "outputs": [],
   "source": [
    "# initialize our list of results\n",
    "results = []"
   ]
  },
  {
   "cell_type": "code",
   "execution_count": 5,
   "metadata": {},
   "outputs": [],
   "source": [
    "# loop over our sampled image paths\n",
    "for p in imagePaths:\n",
    "# load our original input image\n",
    "\torig = cv2.imread(p)\n",
    "\n",
    "# pre-process our image by converting it from BGR to RGB channel\n",
    "# ordering (since our Keras mdoel was trained on RGB ordering),\n",
    "# resize it to 64x64 pixels, and then scale the pixel intensities\n",
    "# to the range [0, 1]\n",
    "\timage = cv2.cvtColor(orig, cv2.COLOR_BGR2RGB)\n",
    "\timage = cv2.resize(image, (64, 64))\n",
    "\timage = image.astype(\"float\") / 255.0\n",
    "\n",
    "\t# order channel dimensions (channels-first or channels-last)\n",
    "\t# depending on our Keras backend, then add a batch dimension to\n",
    "\t# the image\n",
    "\timage = img_to_array(image)\n",
    "\timage = np.expand_dims(image, axis=0)\n",
    "\n",
    "\t# make predictions on the input image\n",
    "\tpred = model.predict(image)\n",
    "\tpred = pred.argmax(axis=1)[0]\n",
    "\n",
    "\t# an index of zero is the 'parasitized' label while an index of\n",
    "\t# one is the 'uninfected' label\n",
    "\tlabel = \"Parasitized\" if pred == 0 else \"Uninfected\"\n",
    "\tcolor = (0, 0, 255) if pred == 0 else (0, 255, 0)\n",
    "\n",
    "\t# resize our original input (so we can better visualize it) and\n",
    "\t# then draw the label on the image\n",
    "\torig = cv2.resize(orig, (128, 128))\n",
    "\tcv2.putText(orig, label, (3, 20), cv2.FONT_HERSHEY_SIMPLEX, 0.5,\n",
    "\t\tcolor, 2)\n",
    "\n",
    "\t# add the output image to our list of results\n",
    "\tresults.append(orig)"
   ]
  },
  {
   "cell_type": "code",
   "execution_count": 6,
   "metadata": {},
   "outputs": [],
   "source": [
    "# create a montage using 128x128 \"tiles\" with 4 rows and 4 columns\n",
    "montage = build_montages(results, (128, 128), (4, 4))[0]"
   ]
  },
  {
   "cell_type": "code",
   "execution_count": null,
   "metadata": {},
   "outputs": [],
   "source": [
    "# show the output montage\n",
    "cv2.imshow(\"Results\", montage)\n",
    "cv2.waitKey(0)"
   ]
  }
 ],
 "metadata": {
  "kernelspec": {
   "display_name": "Python 3",
   "language": "python",
   "name": "python3"
  },
  "language_info": {
   "codemirror_mode": {
    "name": "ipython",
    "version": 3
   },
   "file_extension": ".py",
   "mimetype": "text/x-python",
   "name": "python",
   "nbconvert_exporter": "python",
   "pygments_lexer": "ipython3",
   "version": "3.7.4"
  }
 },
 "nbformat": 4,
 "nbformat_minor": 2
}
