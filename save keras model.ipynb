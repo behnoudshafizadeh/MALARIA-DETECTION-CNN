{
 "cells": [
  {
   "cell_type": "code",
   "execution_count": 1,
   "metadata": {},
   "outputs": [
    {
     "name": "stderr",
     "output_type": "stream",
     "text": [
      "Using TensorFlow backend.\n"
     ]
    }
   ],
   "source": [
    "# USAGE\n",
    "# python save_model.py --dataset malaria --model saved_model.model\n",
    "\n",
    "# set the matplotlib backend so figures can be saved in the background\n",
    "import matplotlib\n",
    "matplotlib.use(\"Agg\")\n",
    "\n",
    "# import the necessary packages\n",
    "from keras.preprocessing.image import ImageDataGenerator\n",
    "from keras.optimizers import SGD\n",
    "from pyimagesearch.resnet import ResNet\n",
    "from sklearn.metrics import classification_report\n",
    "from imutils import paths\n",
    "import matplotlib.pyplot as plt\n",
    "import numpy as np\n",
    "import argparse\n",
    "import os"
   ]
  },
  {
   "cell_type": "code",
   "execution_count": 2,
   "metadata": {},
   "outputs": [],
   "source": [
    "# initialize the number of training epochs and batch size\n",
    "NUM_EPOCHS = 25\n",
    "BS = 32"
   ]
  },
  {
   "cell_type": "code",
   "execution_count": 3,
   "metadata": {},
   "outputs": [],
   "source": [
    "#derive the path to the directories containing the training,\n",
    "# validation, and testing splits, respectively\n",
    "TRAIN_PATH = \"/home/user/Desktop/keras-save-load/malaria/training\"\n",
    "VAL_PATH = \"/home/user/Desktop/keras-save-load/malaria/validation\"\n",
    "TEST_PATH = \"C:/Users/User/Desktop/keras-save-load/malaria/testing/\""
   ]
  },
  {
   "cell_type": "code",
   "execution_count": 4,
   "metadata": {},
   "outputs": [],
   "source": [
    "# determine the total number of image paths in training, validation,\n",
    "# and testing directories\n",
    "totalTrain = len(list(paths.list_images(TRAIN_PATH)))\n",
    "totalVal = len(list(paths.list_images(VAL_PATH)))\n",
    "totalTest = len(list(paths.list_images(TEST_PATH)))"
   ]
  },
  {
   "cell_type": "code",
   "execution_count": 5,
   "metadata": {},
   "outputs": [
    {
     "name": "stdout",
     "output_type": "stream",
     "text": [
      "[] 0 0 100\n"
     ]
    }
   ],
   "source": [
    "print(list(paths.list_images(TRAIN_PATH)),totalTrain,totalVal,totalTest)"
   ]
  },
  {
   "cell_type": "code",
   "execution_count": null,
   "metadata": {},
   "outputs": [],
   "source": [
    "# initialize the training data augmentation object\n",
    "trainAug = ImageDataGenerator(\n",
    "rescale=1 / 255.0,\n",
    "rotation_range=20,\n",
    "zoom_range=0.05,\n",
    "width_shift_range=0.05,\n",
    "height_shift_range=0.05,\n",
    "shear_range=0.05,\n",
    "horizontal_flip=True,\n",
    "fill_mode=\"nearest\")"
   ]
  },
  {
   "cell_type": "code",
   "execution_count": null,
   "metadata": {},
   "outputs": [],
   "source": [
    "# initialize the validation (and testing) data augmentation object\n",
    "valAug = ImageDataGenerator(rescale=1 / 255.0)"
   ]
  },
  {
   "cell_type": "code",
   "execution_count": null,
   "metadata": {},
   "outputs": [],
   "source": [
    "# initialize the training generator\n",
    "trainGen = trainAug.flow_from_directory(\n",
    "TRAIN_PATH,\n",
    "class_mode=\"categorical\",\n",
    "target_size=(64, 64),\n",
    "color_mode=\"rgb\",\n",
    "shuffle=True,\n",
    "batch_size=32)"
   ]
  },
  {
   "cell_type": "code",
   "execution_count": null,
   "metadata": {},
   "outputs": [],
   "source": [
    "# initialize the validation generator\n",
    "valGen = valAug.flow_from_directory(\n",
    "VAL_PATH,\n",
    "class_mode=\"categorical\",\n",
    "target_size=(64, 64),\n",
    "color_mode=\"rgb\",\n",
    "shuffle=False,\n",
    "batch_size=BS)"
   ]
  },
  {
   "cell_type": "code",
   "execution_count": null,
   "metadata": {},
   "outputs": [],
   "source": [
    "# initialize the testing generator\n",
    "testGen = valAug.flow_from_directory(\n",
    "TEST_PATH,\n",
    "class_mode=\"categorical\",\n",
    "target_size=(64, 64),\n",
    "color_mode=\"rgb\",\n",
    "shuffle=False,\n",
    "batch_size=BS)"
   ]
  },
  {
   "cell_type": "code",
   "execution_count": null,
   "metadata": {},
   "outputs": [],
   "source": [
    "# initialize our Keras implementation of ResNet model and compile it\n",
    "model = ResNet.build(64, 64, 3, 2, (2, 2, 3),\n",
    "(32, 64, 128, 256), reg=0.0005)\n",
    "opt = SGD(lr=1e-1, momentum=0.9, decay=1e-1 / NUM_EPOCHS)\n",
    "model.compile(loss=\"binary_crossentropy\", optimizer=opt,\n",
    "metrics=[\"accuracy\"])"
   ]
  },
  {
   "cell_type": "code",
   "execution_count": null,
   "metadata": {},
   "outputs": [],
   "source": [
    "# train our Keras model\n",
    "H = model.fit_generator(\n",
    "    trainGen,\n",
    "    steps_per_epoch=totalTrain // BS,\n",
    "    validation_data=valGen,\n",
    "    validation_steps=totalVal // BS,\n",
    "    epochs=NUM_EPOCHS)"
   ]
  },
  {
   "cell_type": "code",
   "execution_count": null,
   "metadata": {},
   "outputs": [],
   "source": [
    "# reset the testing generator and then use our trained model to\n",
    "# make predictions on the data\n",
    "print(\"[INFO] evaluating network...\")\n",
    "testGen.reset()\n",
    "predIdxs = model.predict_generator(testGen,steps=(totalTest // BS) + 1)"
   ]
  },
  {
   "cell_type": "code",
   "execution_count": null,
   "metadata": {},
   "outputs": [],
   "source": [
    "print(predIdxs,predIdxs.shape)"
   ]
  },
  {
   "cell_type": "code",
   "execution_count": null,
   "metadata": {},
   "outputs": [],
   "source": [
    "# for each image in the testing set we need to find the index of the\n",
    "# label with corresponding largest predicted probability\n",
    "predIdxs = np.argmax(predIdxs, axis=1)\n"
   ]
  },
  {
   "cell_type": "code",
   "execution_count": null,
   "metadata": {},
   "outputs": [],
   "source": [
    "print(predIdxs)\n",
    "print(testGen.classes)\n",
    "target_names=testGen.class_indices.keys()\n",
    "print(target_names)"
   ]
  },
  {
   "cell_type": "code",
   "execution_count": null,
   "metadata": {},
   "outputs": [],
   "source": [
    "# show a nicely formatted classification report\n",
    "print(classification_report(testGen.classes, predIdxs,target_names=testGen.class_indices.keys()))"
   ]
  },
  {
   "cell_type": "code",
   "execution_count": null,
   "metadata": {},
   "outputs": [],
   "source": [
    "# save the network to disk\n",
    "print(\"[INFO] serializing network to '{}'...\".format(\"saved model\"))\n",
    "model.save(\"saved model\")"
   ]
  },
  {
   "cell_type": "code",
   "execution_count": null,
   "metadata": {},
   "outputs": [],
   "source": [
    "# plot the training loss and accuracy\n",
    "N = NUM_EPOCHS\n",
    "plt.style.use(\"ggplot\")\n",
    "plt.figure()\n",
    "plt.plot(np.arange(0, N), H.history[\"loss\"], label=\"train_loss\")\n",
    "plt.plot(np.arange(0, N), H.history[\"val_loss\"], label=\"val_loss\")\n",
    "#plt.plot(np.arange(0, N), H.history[\"acc\"], label=\"train_acc\")\n",
    "#plt.plot(np.arange(0, N), H.history[\"val_acc\"], label=\"val_acc\")\n",
    "plt.title(\"Training Loss and Accuracy on Dataset\")\n",
    "plt.xlabel(\"Epoch #\")\n",
    "plt.ylabel(\"Loss/Accuracy\")\n",
    "plt.legend(loc=\"lower left\")\n",
    "plt.savefig('behnoud1.png')"
   ]
  },
  {
   "cell_type": "code",
   "execution_count": null,
   "metadata": {},
   "outputs": [],
   "source": []
  }
 ],
 "metadata": {
  "kernelspec": {
   "display_name": "Python 3",
   "language": "python",
   "name": "python3"
  },
  "language_info": {
   "codemirror_mode": {
    "name": "ipython",
    "version": 3
   },
   "file_extension": ".py",
   "mimetype": "text/x-python",
   "name": "python",
   "nbconvert_exporter": "python",
   "pygments_lexer": "ipython3",
   "version": "3.7.3"
  }
 },
 "nbformat": 4,
 "nbformat_minor": 2
}
